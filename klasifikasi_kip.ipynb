{
  "nbformat": 4,
  "nbformat_minor": 0,
  "metadata": {
    "colab": {
      "provenance": []
    },
    "kernelspec": {
      "name": "python3",
      "display_name": "Python 3"
    },
    "language_info": {
      "name": "python"
    }
  },
  "cells": [
    {
      "cell_type": "code",
      "execution_count": null,
      "metadata": {
        "id": "1kNERoEv-2mZ"
      },
      "outputs": [],
      "source": [
        "import pandas as pd\n",
        "import numpy as np\n",
        "import seaborn as sns\n",
        "import matplotlib.pyplot as plt\n",
        "\n",
        "from sklearn.metrics import confusion_matrix, accuracy_score, classification_report\n",
        "from sklearn.svm import SVC\n",
        "from sklearn.model_selection import StratifiedKFold\n",
        "from sklearn.model_selection import GridSearchCV\n",
        "from sklearn.preprocessing import OneHotEncoder, StandardScaler\n",
        "from sklearn.model_selection import train_test_split\n",
        "from sklearn.compose import ColumnTransformer\n",
        "from sklearn.pipeline import Pipeline"
      ]
    },
    {
      "cell_type": "code",
      "source": [
        "df = pd.read_csv('dataset_kip2.csv', index_col=0)\n",
        "df"
      ],
      "metadata": {
        "id": "Xv5FQfNuF9GZ",
        "colab": {
          "base_uri": "https://localhost:8080/",
          "height": 1000
        },
        "outputId": "8d430bbd-18ca-47f4-af1e-bee5c57fd9a1"
      },
      "execution_count": null,
      "outputs": [
        {
          "output_type": "execute_result",
          "data": {
            "text/plain": [
              "                Nama  Usia Tanggal Lahir  \\\n",
              "NO                                         \n",
              "1         Tari Nurul    17    11/22/2007   \n",
              "2         Xenia Arum    17    10/21/2007   \n",
              "3        Oki Saputra    17     7/15/2008   \n",
              "4         Cinta Sari    15     4/19/2008   \n",
              "5           Vina Ayu    18      9/7/2007   \n",
              "..               ...   ...           ...   \n",
              "506      Wira Andika    18      4/9/2009   \n",
              "507    Eka Wulandari    16    12/28/2008   \n",
              "508      Sari Amelia    16     8/22/2009   \n",
              "509   Haris Setiawan    17      5/5/2009   \n",
              "510  Januari Prabowo    15     11/9/2007   \n",
              "\n",
              "                                                Alamat Pekerjaan Orang Tua  \\\n",
              "NO                                                                           \n",
              "1    Perumahan Pesona Asri, Kec. Cibadak, Sukabumi,...          Wiraswasta   \n",
              "2    Kampung Cikundul, Kec. Lembursitu, Sukabumi, J...              Petani   \n",
              "3             Kampung Lembursitu, Sukabumi, Jawa Barat            Pedagang   \n",
              "4    Kampung Selajambe, Kec. Cisaat, Sukabumi, Jawa...                 PNS   \n",
              "5                 Kampung Cisaat, Sukabumi, Jawa Barat              Petani   \n",
              "..                                                 ...                 ...   \n",
              "506  Kampung Cibeureum, Kec. Cisaat, Sukabumi, Jawa...     Karyawan Swasta   \n",
              "507           Kampung Lembursitu, Sukabumi, Jawa Barat          Wiraswasta   \n",
              "508  Kampung Selajambe, Kec. Cisaat, Sukabumi, Jawa...     Karyawan Swasta   \n",
              "509                Kampung Baros, Sukabumi, Jawa Barat                 PNS   \n",
              "510  Kampung Cibeureum, Kec. Cisaat, Sukabumi, Jawa...              Petani   \n",
              "\n",
              "     Penghasilan Orang Tua  Jumlah Keluarga  Jumlah Tanggungan Anak  \\\n",
              "NO                                                                    \n",
              "1                   500000                3                       2   \n",
              "2                  3000000                5                       4   \n",
              "3                   500000                6                       3   \n",
              "4                   500000                7                       4   \n",
              "5                  5000000                5                       1   \n",
              "..                     ...              ...                     ...   \n",
              "506                1000000                4                       3   \n",
              "507                1000000                4                       3   \n",
              "508                5000000                6                       5   \n",
              "509                5000000                3                       2   \n",
              "510                3000000                6                       2   \n",
              "\n",
              "      Status Rumah Jenis Lantai Jenis Dinding       Status  \n",
              "NO                                                          \n",
              "1    Milik Sendiri        Semen        Tembok  Tidak Layak  \n",
              "2             Sewa      Keramik        Tembok  Tidak Layak  \n",
              "3    Milik Sendiri      Keramik          Kayu  Tidak Layak  \n",
              "4    Milik Sendiri      Keramik          Kayu        Layak  \n",
              "5    Milik Sendiri        Semen        Tembok  Tidak Layak  \n",
              "..             ...          ...           ...          ...  \n",
              "506  Milik Sendiri      Keramik          Kayu  Tidak Layak  \n",
              "507           Sewa      Keramik        Tembok  Tidak Layak  \n",
              "508           Sewa      Keramik        Tembok  Tidak Layak  \n",
              "509  Milik Sendiri      Keramik          Kayu  Tidak Layak  \n",
              "510  Milik Sendiri        Semen        Tembok  Tidak Layak  \n",
              "\n",
              "[510 rows x 12 columns]"
            ],
            "text/html": [
              "\n",
              "  <div id=\"df-ecb4b5df-b3fb-4e06-a0bb-18993f4cd7b1\" class=\"colab-df-container\">\n",
              "    <div>\n",
              "<style scoped>\n",
              "    .dataframe tbody tr th:only-of-type {\n",
              "        vertical-align: middle;\n",
              "    }\n",
              "\n",
              "    .dataframe tbody tr th {\n",
              "        vertical-align: top;\n",
              "    }\n",
              "\n",
              "    .dataframe thead th {\n",
              "        text-align: right;\n",
              "    }\n",
              "</style>\n",
              "<table border=\"1\" class=\"dataframe\">\n",
              "  <thead>\n",
              "    <tr style=\"text-align: right;\">\n",
              "      <th></th>\n",
              "      <th>Nama</th>\n",
              "      <th>Usia</th>\n",
              "      <th>Tanggal Lahir</th>\n",
              "      <th>Alamat</th>\n",
              "      <th>Pekerjaan Orang Tua</th>\n",
              "      <th>Penghasilan Orang Tua</th>\n",
              "      <th>Jumlah Keluarga</th>\n",
              "      <th>Jumlah Tanggungan Anak</th>\n",
              "      <th>Status Rumah</th>\n",
              "      <th>Jenis Lantai</th>\n",
              "      <th>Jenis Dinding</th>\n",
              "      <th>Status</th>\n",
              "    </tr>\n",
              "    <tr>\n",
              "      <th>NO</th>\n",
              "      <th></th>\n",
              "      <th></th>\n",
              "      <th></th>\n",
              "      <th></th>\n",
              "      <th></th>\n",
              "      <th></th>\n",
              "      <th></th>\n",
              "      <th></th>\n",
              "      <th></th>\n",
              "      <th></th>\n",
              "      <th></th>\n",
              "      <th></th>\n",
              "    </tr>\n",
              "  </thead>\n",
              "  <tbody>\n",
              "    <tr>\n",
              "      <th>1</th>\n",
              "      <td>Tari Nurul</td>\n",
              "      <td>17</td>\n",
              "      <td>11/22/2007</td>\n",
              "      <td>Perumahan Pesona Asri, Kec. Cibadak, Sukabumi,...</td>\n",
              "      <td>Wiraswasta</td>\n",
              "      <td>500000</td>\n",
              "      <td>3</td>\n",
              "      <td>2</td>\n",
              "      <td>Milik Sendiri</td>\n",
              "      <td>Semen</td>\n",
              "      <td>Tembok</td>\n",
              "      <td>Tidak Layak</td>\n",
              "    </tr>\n",
              "    <tr>\n",
              "      <th>2</th>\n",
              "      <td>Xenia Arum</td>\n",
              "      <td>17</td>\n",
              "      <td>10/21/2007</td>\n",
              "      <td>Kampung Cikundul, Kec. Lembursitu, Sukabumi, J...</td>\n",
              "      <td>Petani</td>\n",
              "      <td>3000000</td>\n",
              "      <td>5</td>\n",
              "      <td>4</td>\n",
              "      <td>Sewa</td>\n",
              "      <td>Keramik</td>\n",
              "      <td>Tembok</td>\n",
              "      <td>Tidak Layak</td>\n",
              "    </tr>\n",
              "    <tr>\n",
              "      <th>3</th>\n",
              "      <td>Oki Saputra</td>\n",
              "      <td>17</td>\n",
              "      <td>7/15/2008</td>\n",
              "      <td>Kampung Lembursitu, Sukabumi, Jawa Barat</td>\n",
              "      <td>Pedagang</td>\n",
              "      <td>500000</td>\n",
              "      <td>6</td>\n",
              "      <td>3</td>\n",
              "      <td>Milik Sendiri</td>\n",
              "      <td>Keramik</td>\n",
              "      <td>Kayu</td>\n",
              "      <td>Tidak Layak</td>\n",
              "    </tr>\n",
              "    <tr>\n",
              "      <th>4</th>\n",
              "      <td>Cinta Sari</td>\n",
              "      <td>15</td>\n",
              "      <td>4/19/2008</td>\n",
              "      <td>Kampung Selajambe, Kec. Cisaat, Sukabumi, Jawa...</td>\n",
              "      <td>PNS</td>\n",
              "      <td>500000</td>\n",
              "      <td>7</td>\n",
              "      <td>4</td>\n",
              "      <td>Milik Sendiri</td>\n",
              "      <td>Keramik</td>\n",
              "      <td>Kayu</td>\n",
              "      <td>Layak</td>\n",
              "    </tr>\n",
              "    <tr>\n",
              "      <th>5</th>\n",
              "      <td>Vina Ayu</td>\n",
              "      <td>18</td>\n",
              "      <td>9/7/2007</td>\n",
              "      <td>Kampung Cisaat, Sukabumi, Jawa Barat</td>\n",
              "      <td>Petani</td>\n",
              "      <td>5000000</td>\n",
              "      <td>5</td>\n",
              "      <td>1</td>\n",
              "      <td>Milik Sendiri</td>\n",
              "      <td>Semen</td>\n",
              "      <td>Tembok</td>\n",
              "      <td>Tidak Layak</td>\n",
              "    </tr>\n",
              "    <tr>\n",
              "      <th>...</th>\n",
              "      <td>...</td>\n",
              "      <td>...</td>\n",
              "      <td>...</td>\n",
              "      <td>...</td>\n",
              "      <td>...</td>\n",
              "      <td>...</td>\n",
              "      <td>...</td>\n",
              "      <td>...</td>\n",
              "      <td>...</td>\n",
              "      <td>...</td>\n",
              "      <td>...</td>\n",
              "      <td>...</td>\n",
              "    </tr>\n",
              "    <tr>\n",
              "      <th>506</th>\n",
              "      <td>Wira Andika</td>\n",
              "      <td>18</td>\n",
              "      <td>4/9/2009</td>\n",
              "      <td>Kampung Cibeureum, Kec. Cisaat, Sukabumi, Jawa...</td>\n",
              "      <td>Karyawan Swasta</td>\n",
              "      <td>1000000</td>\n",
              "      <td>4</td>\n",
              "      <td>3</td>\n",
              "      <td>Milik Sendiri</td>\n",
              "      <td>Keramik</td>\n",
              "      <td>Kayu</td>\n",
              "      <td>Tidak Layak</td>\n",
              "    </tr>\n",
              "    <tr>\n",
              "      <th>507</th>\n",
              "      <td>Eka Wulandari</td>\n",
              "      <td>16</td>\n",
              "      <td>12/28/2008</td>\n",
              "      <td>Kampung Lembursitu, Sukabumi, Jawa Barat</td>\n",
              "      <td>Wiraswasta</td>\n",
              "      <td>1000000</td>\n",
              "      <td>4</td>\n",
              "      <td>3</td>\n",
              "      <td>Sewa</td>\n",
              "      <td>Keramik</td>\n",
              "      <td>Tembok</td>\n",
              "      <td>Tidak Layak</td>\n",
              "    </tr>\n",
              "    <tr>\n",
              "      <th>508</th>\n",
              "      <td>Sari Amelia</td>\n",
              "      <td>16</td>\n",
              "      <td>8/22/2009</td>\n",
              "      <td>Kampung Selajambe, Kec. Cisaat, Sukabumi, Jawa...</td>\n",
              "      <td>Karyawan Swasta</td>\n",
              "      <td>5000000</td>\n",
              "      <td>6</td>\n",
              "      <td>5</td>\n",
              "      <td>Sewa</td>\n",
              "      <td>Keramik</td>\n",
              "      <td>Tembok</td>\n",
              "      <td>Tidak Layak</td>\n",
              "    </tr>\n",
              "    <tr>\n",
              "      <th>509</th>\n",
              "      <td>Haris Setiawan</td>\n",
              "      <td>17</td>\n",
              "      <td>5/5/2009</td>\n",
              "      <td>Kampung Baros, Sukabumi, Jawa Barat</td>\n",
              "      <td>PNS</td>\n",
              "      <td>5000000</td>\n",
              "      <td>3</td>\n",
              "      <td>2</td>\n",
              "      <td>Milik Sendiri</td>\n",
              "      <td>Keramik</td>\n",
              "      <td>Kayu</td>\n",
              "      <td>Tidak Layak</td>\n",
              "    </tr>\n",
              "    <tr>\n",
              "      <th>510</th>\n",
              "      <td>Januari Prabowo</td>\n",
              "      <td>15</td>\n",
              "      <td>11/9/2007</td>\n",
              "      <td>Kampung Cibeureum, Kec. Cisaat, Sukabumi, Jawa...</td>\n",
              "      <td>Petani</td>\n",
              "      <td>3000000</td>\n",
              "      <td>6</td>\n",
              "      <td>2</td>\n",
              "      <td>Milik Sendiri</td>\n",
              "      <td>Semen</td>\n",
              "      <td>Tembok</td>\n",
              "      <td>Tidak Layak</td>\n",
              "    </tr>\n",
              "  </tbody>\n",
              "</table>\n",
              "<p>510 rows × 12 columns</p>\n",
              "</div>\n",
              "    <div class=\"colab-df-buttons\">\n",
              "\n",
              "  <div class=\"colab-df-container\">\n",
              "    <button class=\"colab-df-convert\" onclick=\"convertToInteractive('df-ecb4b5df-b3fb-4e06-a0bb-18993f4cd7b1')\"\n",
              "            title=\"Convert this dataframe to an interactive table.\"\n",
              "            style=\"display:none;\">\n",
              "\n",
              "  <svg xmlns=\"http://www.w3.org/2000/svg\" height=\"24px\" viewBox=\"0 -960 960 960\">\n",
              "    <path d=\"M120-120v-720h720v720H120Zm60-500h600v-160H180v160Zm220 220h160v-160H400v160Zm0 220h160v-160H400v160ZM180-400h160v-160H180v160Zm440 0h160v-160H620v160ZM180-180h160v-160H180v160Zm440 0h160v-160H620v160Z\"/>\n",
              "  </svg>\n",
              "    </button>\n",
              "\n",
              "  <style>\n",
              "    .colab-df-container {\n",
              "      display:flex;\n",
              "      gap: 12px;\n",
              "    }\n",
              "\n",
              "    .colab-df-convert {\n",
              "      background-color: #E8F0FE;\n",
              "      border: none;\n",
              "      border-radius: 50%;\n",
              "      cursor: pointer;\n",
              "      display: none;\n",
              "      fill: #1967D2;\n",
              "      height: 32px;\n",
              "      padding: 0 0 0 0;\n",
              "      width: 32px;\n",
              "    }\n",
              "\n",
              "    .colab-df-convert:hover {\n",
              "      background-color: #E2EBFA;\n",
              "      box-shadow: 0px 1px 2px rgba(60, 64, 67, 0.3), 0px 1px 3px 1px rgba(60, 64, 67, 0.15);\n",
              "      fill: #174EA6;\n",
              "    }\n",
              "\n",
              "    .colab-df-buttons div {\n",
              "      margin-bottom: 4px;\n",
              "    }\n",
              "\n",
              "    [theme=dark] .colab-df-convert {\n",
              "      background-color: #3B4455;\n",
              "      fill: #D2E3FC;\n",
              "    }\n",
              "\n",
              "    [theme=dark] .colab-df-convert:hover {\n",
              "      background-color: #434B5C;\n",
              "      box-shadow: 0px 1px 3px 1px rgba(0, 0, 0, 0.15);\n",
              "      filter: drop-shadow(0px 1px 2px rgba(0, 0, 0, 0.3));\n",
              "      fill: #FFFFFF;\n",
              "    }\n",
              "  </style>\n",
              "\n",
              "    <script>\n",
              "      const buttonEl =\n",
              "        document.querySelector('#df-ecb4b5df-b3fb-4e06-a0bb-18993f4cd7b1 button.colab-df-convert');\n",
              "      buttonEl.style.display =\n",
              "        google.colab.kernel.accessAllowed ? 'block' : 'none';\n",
              "\n",
              "      async function convertToInteractive(key) {\n",
              "        const element = document.querySelector('#df-ecb4b5df-b3fb-4e06-a0bb-18993f4cd7b1');\n",
              "        const dataTable =\n",
              "          await google.colab.kernel.invokeFunction('convertToInteractive',\n",
              "                                                    [key], {});\n",
              "        if (!dataTable) return;\n",
              "\n",
              "        const docLinkHtml = 'Like what you see? Visit the ' +\n",
              "          '<a target=\"_blank\" href=https://colab.research.google.com/notebooks/data_table.ipynb>data table notebook</a>'\n",
              "          + ' to learn more about interactive tables.';\n",
              "        element.innerHTML = '';\n",
              "        dataTable['output_type'] = 'display_data';\n",
              "        await google.colab.output.renderOutput(dataTable, element);\n",
              "        const docLink = document.createElement('div');\n",
              "        docLink.innerHTML = docLinkHtml;\n",
              "        element.appendChild(docLink);\n",
              "      }\n",
              "    </script>\n",
              "  </div>\n",
              "\n",
              "\n",
              "<div id=\"df-72d4a8ab-5f26-4bc3-a9e9-e9867f033aa7\">\n",
              "  <button class=\"colab-df-quickchart\" onclick=\"quickchart('df-72d4a8ab-5f26-4bc3-a9e9-e9867f033aa7')\"\n",
              "            title=\"Suggest charts\"\n",
              "            style=\"display:none;\">\n",
              "\n",
              "<svg xmlns=\"http://www.w3.org/2000/svg\" height=\"24px\"viewBox=\"0 0 24 24\"\n",
              "     width=\"24px\">\n",
              "    <g>\n",
              "        <path d=\"M19 3H5c-1.1 0-2 .9-2 2v14c0 1.1.9 2 2 2h14c1.1 0 2-.9 2-2V5c0-1.1-.9-2-2-2zM9 17H7v-7h2v7zm4 0h-2V7h2v10zm4 0h-2v-4h2v4z\"/>\n",
              "    </g>\n",
              "</svg>\n",
              "  </button>\n",
              "\n",
              "<style>\n",
              "  .colab-df-quickchart {\n",
              "      --bg-color: #E8F0FE;\n",
              "      --fill-color: #1967D2;\n",
              "      --hover-bg-color: #E2EBFA;\n",
              "      --hover-fill-color: #174EA6;\n",
              "      --disabled-fill-color: #AAA;\n",
              "      --disabled-bg-color: #DDD;\n",
              "  }\n",
              "\n",
              "  [theme=dark] .colab-df-quickchart {\n",
              "      --bg-color: #3B4455;\n",
              "      --fill-color: #D2E3FC;\n",
              "      --hover-bg-color: #434B5C;\n",
              "      --hover-fill-color: #FFFFFF;\n",
              "      --disabled-bg-color: #3B4455;\n",
              "      --disabled-fill-color: #666;\n",
              "  }\n",
              "\n",
              "  .colab-df-quickchart {\n",
              "    background-color: var(--bg-color);\n",
              "    border: none;\n",
              "    border-radius: 50%;\n",
              "    cursor: pointer;\n",
              "    display: none;\n",
              "    fill: var(--fill-color);\n",
              "    height: 32px;\n",
              "    padding: 0;\n",
              "    width: 32px;\n",
              "  }\n",
              "\n",
              "  .colab-df-quickchart:hover {\n",
              "    background-color: var(--hover-bg-color);\n",
              "    box-shadow: 0 1px 2px rgba(60, 64, 67, 0.3), 0 1px 3px 1px rgba(60, 64, 67, 0.15);\n",
              "    fill: var(--button-hover-fill-color);\n",
              "  }\n",
              "\n",
              "  .colab-df-quickchart-complete:disabled,\n",
              "  .colab-df-quickchart-complete:disabled:hover {\n",
              "    background-color: var(--disabled-bg-color);\n",
              "    fill: var(--disabled-fill-color);\n",
              "    box-shadow: none;\n",
              "  }\n",
              "\n",
              "  .colab-df-spinner {\n",
              "    border: 2px solid var(--fill-color);\n",
              "    border-color: transparent;\n",
              "    border-bottom-color: var(--fill-color);\n",
              "    animation:\n",
              "      spin 1s steps(1) infinite;\n",
              "  }\n",
              "\n",
              "  @keyframes spin {\n",
              "    0% {\n",
              "      border-color: transparent;\n",
              "      border-bottom-color: var(--fill-color);\n",
              "      border-left-color: var(--fill-color);\n",
              "    }\n",
              "    20% {\n",
              "      border-color: transparent;\n",
              "      border-left-color: var(--fill-color);\n",
              "      border-top-color: var(--fill-color);\n",
              "    }\n",
              "    30% {\n",
              "      border-color: transparent;\n",
              "      border-left-color: var(--fill-color);\n",
              "      border-top-color: var(--fill-color);\n",
              "      border-right-color: var(--fill-color);\n",
              "    }\n",
              "    40% {\n",
              "      border-color: transparent;\n",
              "      border-right-color: var(--fill-color);\n",
              "      border-top-color: var(--fill-color);\n",
              "    }\n",
              "    60% {\n",
              "      border-color: transparent;\n",
              "      border-right-color: var(--fill-color);\n",
              "    }\n",
              "    80% {\n",
              "      border-color: transparent;\n",
              "      border-right-color: var(--fill-color);\n",
              "      border-bottom-color: var(--fill-color);\n",
              "    }\n",
              "    90% {\n",
              "      border-color: transparent;\n",
              "      border-bottom-color: var(--fill-color);\n",
              "    }\n",
              "  }\n",
              "</style>\n",
              "\n",
              "  <script>\n",
              "    async function quickchart(key) {\n",
              "      const quickchartButtonEl =\n",
              "        document.querySelector('#' + key + ' button');\n",
              "      quickchartButtonEl.disabled = true;  // To prevent multiple clicks.\n",
              "      quickchartButtonEl.classList.add('colab-df-spinner');\n",
              "      try {\n",
              "        const charts = await google.colab.kernel.invokeFunction(\n",
              "            'suggestCharts', [key], {});\n",
              "      } catch (error) {\n",
              "        console.error('Error during call to suggestCharts:', error);\n",
              "      }\n",
              "      quickchartButtonEl.classList.remove('colab-df-spinner');\n",
              "      quickchartButtonEl.classList.add('colab-df-quickchart-complete');\n",
              "    }\n",
              "    (() => {\n",
              "      let quickchartButtonEl =\n",
              "        document.querySelector('#df-72d4a8ab-5f26-4bc3-a9e9-e9867f033aa7 button');\n",
              "      quickchartButtonEl.style.display =\n",
              "        google.colab.kernel.accessAllowed ? 'block' : 'none';\n",
              "    })();\n",
              "  </script>\n",
              "</div>\n",
              "\n",
              "  <div id=\"id_f1a3f958-faa3-43ec-8e54-0b0a146714d5\">\n",
              "    <style>\n",
              "      .colab-df-generate {\n",
              "        background-color: #E8F0FE;\n",
              "        border: none;\n",
              "        border-radius: 50%;\n",
              "        cursor: pointer;\n",
              "        display: none;\n",
              "        fill: #1967D2;\n",
              "        height: 32px;\n",
              "        padding: 0 0 0 0;\n",
              "        width: 32px;\n",
              "      }\n",
              "\n",
              "      .colab-df-generate:hover {\n",
              "        background-color: #E2EBFA;\n",
              "        box-shadow: 0px 1px 2px rgba(60, 64, 67, 0.3), 0px 1px 3px 1px rgba(60, 64, 67, 0.15);\n",
              "        fill: #174EA6;\n",
              "      }\n",
              "\n",
              "      [theme=dark] .colab-df-generate {\n",
              "        background-color: #3B4455;\n",
              "        fill: #D2E3FC;\n",
              "      }\n",
              "\n",
              "      [theme=dark] .colab-df-generate:hover {\n",
              "        background-color: #434B5C;\n",
              "        box-shadow: 0px 1px 3px 1px rgba(0, 0, 0, 0.15);\n",
              "        filter: drop-shadow(0px 1px 2px rgba(0, 0, 0, 0.3));\n",
              "        fill: #FFFFFF;\n",
              "      }\n",
              "    </style>\n",
              "    <button class=\"colab-df-generate\" onclick=\"generateWithVariable('df')\"\n",
              "            title=\"Generate code using this dataframe.\"\n",
              "            style=\"display:none;\">\n",
              "\n",
              "  <svg xmlns=\"http://www.w3.org/2000/svg\" height=\"24px\"viewBox=\"0 0 24 24\"\n",
              "       width=\"24px\">\n",
              "    <path d=\"M7,19H8.4L18.45,9,17,7.55,7,17.6ZM5,21V16.75L18.45,3.32a2,2,0,0,1,2.83,0l1.4,1.43a1.91,1.91,0,0,1,.58,1.4,1.91,1.91,0,0,1-.58,1.4L9.25,21ZM18.45,9,17,7.55Zm-12,3A5.31,5.31,0,0,0,4.9,8.1,5.31,5.31,0,0,0,1,6.5,5.31,5.31,0,0,0,4.9,4.9,5.31,5.31,0,0,0,6.5,1,5.31,5.31,0,0,0,8.1,4.9,5.31,5.31,0,0,0,12,6.5,5.46,5.46,0,0,0,6.5,12Z\"/>\n",
              "  </svg>\n",
              "    </button>\n",
              "    <script>\n",
              "      (() => {\n",
              "      const buttonEl =\n",
              "        document.querySelector('#id_f1a3f958-faa3-43ec-8e54-0b0a146714d5 button.colab-df-generate');\n",
              "      buttonEl.style.display =\n",
              "        google.colab.kernel.accessAllowed ? 'block' : 'none';\n",
              "\n",
              "      buttonEl.onclick = () => {\n",
              "        google.colab.notebook.generateWithVariable('df');\n",
              "      }\n",
              "      })();\n",
              "    </script>\n",
              "  </div>\n",
              "\n",
              "    </div>\n",
              "  </div>\n"
            ],
            "application/vnd.google.colaboratory.intrinsic+json": {
              "type": "dataframe",
              "variable_name": "df",
              "summary": "{\n  \"name\": \"df\",\n  \"rows\": 510,\n  \"fields\": [\n    {\n      \"column\": \"NO\",\n      \"properties\": {\n        \"dtype\": \"number\",\n        \"std\": 147,\n        \"min\": 1,\n        \"max\": 510,\n        \"num_unique_values\": 510,\n        \"samples\": [\n          481,\n          450,\n          476\n        ],\n        \"semantic_type\": \"\",\n        \"description\": \"\"\n      }\n    },\n    {\n      \"column\": \"Nama\",\n      \"properties\": {\n        \"dtype\": \"category\",\n        \"num_unique_values\": 25,\n        \"samples\": [\n          \"Kiki Permata\",\n          \"Wira Andika\",\n          \"Tari Nurul\"\n        ],\n        \"semantic_type\": \"\",\n        \"description\": \"\"\n      }\n    },\n    {\n      \"column\": \"Usia\",\n      \"properties\": {\n        \"dtype\": \"number\",\n        \"std\": 1,\n        \"min\": 15,\n        \"max\": 18,\n        \"num_unique_values\": 4,\n        \"samples\": [\n          15,\n          16,\n          17\n        ],\n        \"semantic_type\": \"\",\n        \"description\": \"\"\n      }\n    },\n    {\n      \"column\": \"Tanggal Lahir\",\n      \"properties\": {\n        \"dtype\": \"object\",\n        \"num_unique_values\": 423,\n        \"samples\": [\n          \"9/9/2007\",\n          \"1/20/2006\",\n          \"5/6/2008\"\n        ],\n        \"semantic_type\": \"\",\n        \"description\": \"\"\n      }\n    },\n    {\n      \"column\": \"Alamat\",\n      \"properties\": {\n        \"dtype\": \"category\",\n        \"num_unique_values\": 10,\n        \"samples\": [\n          \"Kampung Cibeureum, Kec. Cisaat, Sukabumi, Jawa Barat\",\n          \"Kampung Cikundul, Kec. Lembursitu, Sukabumi, Jawa Barat\",\n          \"Perumahan Pesona Cibolang, Cibadak, Sukabumi, Jawa Barat\"\n        ],\n        \"semantic_type\": \"\",\n        \"description\": \"\"\n      }\n    },\n    {\n      \"column\": \"Pekerjaan Orang Tua\",\n      \"properties\": {\n        \"dtype\": \"category\",\n        \"num_unique_values\": 5,\n        \"samples\": [\n          \"Petani\",\n          \"Karyawan Swasta\",\n          \"Pedagang\"\n        ],\n        \"semantic_type\": \"\",\n        \"description\": \"\"\n      }\n    },\n    {\n      \"column\": \"Penghasilan Orang Tua\",\n      \"properties\": {\n        \"dtype\": \"number\",\n        \"std\": 1592634,\n        \"min\": 500000,\n        \"max\": 5000000,\n        \"num_unique_values\": 6,\n        \"samples\": [\n          500000,\n          3000000,\n          2000000\n        ],\n        \"semantic_type\": \"\",\n        \"description\": \"\"\n      }\n    },\n    {\n      \"column\": \"Jumlah Keluarga\",\n      \"properties\": {\n        \"dtype\": \"number\",\n        \"std\": 1,\n        \"min\": 3,\n        \"max\": 7,\n        \"num_unique_values\": 5,\n        \"samples\": [\n          5,\n          4,\n          6\n        ],\n        \"semantic_type\": \"\",\n        \"description\": \"\"\n      }\n    },\n    {\n      \"column\": \"Jumlah Tanggungan Anak\",\n      \"properties\": {\n        \"dtype\": \"number\",\n        \"std\": 1,\n        \"min\": 1,\n        \"max\": 6,\n        \"num_unique_values\": 6,\n        \"samples\": [\n          2,\n          4,\n          6\n        ],\n        \"semantic_type\": \"\",\n        \"description\": \"\"\n      }\n    },\n    {\n      \"column\": \"Status Rumah\",\n      \"properties\": {\n        \"dtype\": \"category\",\n        \"num_unique_values\": 2,\n        \"samples\": [\n          \"Sewa\",\n          \"Milik Sendiri\"\n        ],\n        \"semantic_type\": \"\",\n        \"description\": \"\"\n      }\n    },\n    {\n      \"column\": \"Jenis Lantai\",\n      \"properties\": {\n        \"dtype\": \"category\",\n        \"num_unique_values\": 2,\n        \"samples\": [\n          \"Keramik\",\n          \"Semen\"\n        ],\n        \"semantic_type\": \"\",\n        \"description\": \"\"\n      }\n    },\n    {\n      \"column\": \"Jenis Dinding\",\n      \"properties\": {\n        \"dtype\": \"category\",\n        \"num_unique_values\": 2,\n        \"samples\": [\n          \"Kayu\",\n          \"Tembok\"\n        ],\n        \"semantic_type\": \"\",\n        \"description\": \"\"\n      }\n    },\n    {\n      \"column\": \"Status\",\n      \"properties\": {\n        \"dtype\": \"category\",\n        \"num_unique_values\": 2,\n        \"samples\": [\n          \"Layak\",\n          \"Tidak Layak\"\n        ],\n        \"semantic_type\": \"\",\n        \"description\": \"\"\n      }\n    }\n  ]\n}"
            }
          },
          "metadata": {},
          "execution_count": 199
        }
      ]
    },
    {
      "cell_type": "code",
      "source": [
        "def categorize_penghasilan(value):\n",
        "    if value <= 2000000:\n",
        "        return 'rendah'\n",
        "    elif value <= 3000000:\n",
        "        return 'sedang'\n",
        "    elif value <= 4000000:\n",
        "        return 'tinggi'\n",
        "    else:\n",
        "        return 'sangat tinggi'  # Handle values greater than 4000000\n",
        "\n",
        "df['Penghasilan Orang Tua'] = df['Penghasilan Orang Tua'].apply(categorize_penghasilan)"
      ],
      "metadata": {
        "id": "EMCKiJEjSJcG"
      },
      "execution_count": null,
      "outputs": []
    },
    {
      "cell_type": "code",
      "source": [
        "df_new = df.drop(columns=['Nama', 'Usia', 'Tanggal Lahir','Alamat'])"
      ],
      "metadata": {
        "id": "9vfDdhY63V03"
      },
      "execution_count": null,
      "outputs": []
    },
    {
      "cell_type": "code",
      "source": [
        "print(df_new)"
      ],
      "metadata": {
        "colab": {
          "base_uri": "https://localhost:8080/"
        },
        "id": "2EO3D6AC6WjT",
        "outputId": "44bfbc4c-68c3-4305-cd59-bd4536e54193"
      },
      "execution_count": null,
      "outputs": [
        {
          "output_type": "stream",
          "name": "stdout",
          "text": [
            "    Pekerjaan Orang Tua Penghasilan Orang Tua  Jumlah Keluarga  \\\n",
            "NO                                                               \n",
            "1            Wiraswasta                rendah                3   \n",
            "2                Petani                sedang                5   \n",
            "3              Pedagang                rendah                6   \n",
            "4                   PNS                rendah                7   \n",
            "5                Petani         sangat tinggi                5   \n",
            "..                  ...                   ...              ...   \n",
            "506     Karyawan Swasta                rendah                4   \n",
            "507          Wiraswasta                rendah                4   \n",
            "508     Karyawan Swasta         sangat tinggi                6   \n",
            "509                 PNS         sangat tinggi                3   \n",
            "510              Petani                sedang                6   \n",
            "\n",
            "     Jumlah Tanggungan Anak   Status Rumah Jenis Lantai Jenis Dinding  \\\n",
            "NO                                                                      \n",
            "1                         2  Milik Sendiri        Semen        Tembok   \n",
            "2                         4           Sewa      Keramik        Tembok   \n",
            "3                         3  Milik Sendiri      Keramik          Kayu   \n",
            "4                         4  Milik Sendiri      Keramik          Kayu   \n",
            "5                         1  Milik Sendiri        Semen        Tembok   \n",
            "..                      ...            ...          ...           ...   \n",
            "506                       3  Milik Sendiri      Keramik          Kayu   \n",
            "507                       3           Sewa      Keramik        Tembok   \n",
            "508                       5           Sewa      Keramik        Tembok   \n",
            "509                       2  Milik Sendiri      Keramik          Kayu   \n",
            "510                       2  Milik Sendiri        Semen        Tembok   \n",
            "\n",
            "          Status  \n",
            "NO                \n",
            "1    Tidak Layak  \n",
            "2    Tidak Layak  \n",
            "3    Tidak Layak  \n",
            "4          Layak  \n",
            "5    Tidak Layak  \n",
            "..           ...  \n",
            "506  Tidak Layak  \n",
            "507  Tidak Layak  \n",
            "508  Tidak Layak  \n",
            "509  Tidak Layak  \n",
            "510  Tidak Layak  \n",
            "\n",
            "[510 rows x 8 columns]\n"
          ]
        }
      ]
    },
    {
      "cell_type": "code",
      "source": [
        "print(\"Data Shape : \", df.shape)"
      ],
      "metadata": {
        "colab": {
          "base_uri": "https://localhost:8080/"
        },
        "id": "0d8Q6Q7gPY3_",
        "outputId": "d2a6e418-b009-4ce6-86ef-18621c12c86e"
      },
      "execution_count": null,
      "outputs": [
        {
          "output_type": "stream",
          "name": "stdout",
          "text": [
            "Data Shape :  (510, 12)\n"
          ]
        }
      ]
    },
    {
      "cell_type": "code",
      "source": [
        "df.Status.value_counts()"
      ],
      "metadata": {
        "colab": {
          "base_uri": "https://localhost:8080/",
          "height": 178
        },
        "id": "tpXn-P0xPwh8",
        "outputId": "701fccd7-800b-4979-9866-defd78055664"
      },
      "execution_count": null,
      "outputs": [
        {
          "output_type": "execute_result",
          "data": {
            "text/plain": [
              "Status\n",
              "Tidak Layak    427\n",
              "Layak           83\n",
              "Name: count, dtype: int64"
            ],
            "text/html": [
              "<div>\n",
              "<style scoped>\n",
              "    .dataframe tbody tr th:only-of-type {\n",
              "        vertical-align: middle;\n",
              "    }\n",
              "\n",
              "    .dataframe tbody tr th {\n",
              "        vertical-align: top;\n",
              "    }\n",
              "\n",
              "    .dataframe thead th {\n",
              "        text-align: right;\n",
              "    }\n",
              "</style>\n",
              "<table border=\"1\" class=\"dataframe\">\n",
              "  <thead>\n",
              "    <tr style=\"text-align: right;\">\n",
              "      <th></th>\n",
              "      <th>count</th>\n",
              "    </tr>\n",
              "    <tr>\n",
              "      <th>Status</th>\n",
              "      <th></th>\n",
              "    </tr>\n",
              "  </thead>\n",
              "  <tbody>\n",
              "    <tr>\n",
              "      <th>Tidak Layak</th>\n",
              "      <td>427</td>\n",
              "    </tr>\n",
              "    <tr>\n",
              "      <th>Layak</th>\n",
              "      <td>83</td>\n",
              "    </tr>\n",
              "  </tbody>\n",
              "</table>\n",
              "</div><br><label><b>dtype:</b> int64</label>"
            ]
          },
          "metadata": {},
          "execution_count": 204
        }
      ]
    },
    {
      "cell_type": "code",
      "source": [
        "df.isnull().sum()"
      ],
      "metadata": {
        "colab": {
          "base_uri": "https://localhost:8080/",
          "height": 460
        },
        "id": "vgclZ3b2P0fC",
        "outputId": "959688f4-549c-4e9f-ca37-8b0b833ff441"
      },
      "execution_count": null,
      "outputs": [
        {
          "output_type": "execute_result",
          "data": {
            "text/plain": [
              "Nama                      0\n",
              "Usia                      0\n",
              "Tanggal Lahir             0\n",
              "Alamat                    0\n",
              "Pekerjaan Orang Tua       0\n",
              "Penghasilan Orang Tua     0\n",
              "Jumlah Keluarga           0\n",
              "Jumlah Tanggungan Anak    0\n",
              "Status Rumah              0\n",
              "Jenis Lantai              0\n",
              "Jenis Dinding             0\n",
              "Status                    0\n",
              "dtype: int64"
            ],
            "text/html": [
              "<div>\n",
              "<style scoped>\n",
              "    .dataframe tbody tr th:only-of-type {\n",
              "        vertical-align: middle;\n",
              "    }\n",
              "\n",
              "    .dataframe tbody tr th {\n",
              "        vertical-align: top;\n",
              "    }\n",
              "\n",
              "    .dataframe thead th {\n",
              "        text-align: right;\n",
              "    }\n",
              "</style>\n",
              "<table border=\"1\" class=\"dataframe\">\n",
              "  <thead>\n",
              "    <tr style=\"text-align: right;\">\n",
              "      <th></th>\n",
              "      <th>0</th>\n",
              "    </tr>\n",
              "  </thead>\n",
              "  <tbody>\n",
              "    <tr>\n",
              "      <th>Nama</th>\n",
              "      <td>0</td>\n",
              "    </tr>\n",
              "    <tr>\n",
              "      <th>Usia</th>\n",
              "      <td>0</td>\n",
              "    </tr>\n",
              "    <tr>\n",
              "      <th>Tanggal Lahir</th>\n",
              "      <td>0</td>\n",
              "    </tr>\n",
              "    <tr>\n",
              "      <th>Alamat</th>\n",
              "      <td>0</td>\n",
              "    </tr>\n",
              "    <tr>\n",
              "      <th>Pekerjaan Orang Tua</th>\n",
              "      <td>0</td>\n",
              "    </tr>\n",
              "    <tr>\n",
              "      <th>Penghasilan Orang Tua</th>\n",
              "      <td>0</td>\n",
              "    </tr>\n",
              "    <tr>\n",
              "      <th>Jumlah Keluarga</th>\n",
              "      <td>0</td>\n",
              "    </tr>\n",
              "    <tr>\n",
              "      <th>Jumlah Tanggungan Anak</th>\n",
              "      <td>0</td>\n",
              "    </tr>\n",
              "    <tr>\n",
              "      <th>Status Rumah</th>\n",
              "      <td>0</td>\n",
              "    </tr>\n",
              "    <tr>\n",
              "      <th>Jenis Lantai</th>\n",
              "      <td>0</td>\n",
              "    </tr>\n",
              "    <tr>\n",
              "      <th>Jenis Dinding</th>\n",
              "      <td>0</td>\n",
              "    </tr>\n",
              "    <tr>\n",
              "      <th>Status</th>\n",
              "      <td>0</td>\n",
              "    </tr>\n",
              "  </tbody>\n",
              "</table>\n",
              "</div><br><label><b>dtype:</b> int64</label>"
            ]
          },
          "metadata": {},
          "execution_count": 205
        }
      ]
    },
    {
      "cell_type": "code",
      "source": [
        "df.duplicated()"
      ],
      "metadata": {
        "colab": {
          "base_uri": "https://localhost:8080/",
          "height": 490
        },
        "id": "4UlGHWMuP4F8",
        "outputId": "fbd6b366-acf7-4c74-8ae9-7ef37527e98b"
      },
      "execution_count": null,
      "outputs": [
        {
          "output_type": "execute_result",
          "data": {
            "text/plain": [
              "NO\n",
              "1      False\n",
              "2      False\n",
              "3      False\n",
              "4      False\n",
              "5      False\n",
              "       ...  \n",
              "506    False\n",
              "507    False\n",
              "508    False\n",
              "509    False\n",
              "510    False\n",
              "Length: 510, dtype: bool"
            ],
            "text/html": [
              "<div>\n",
              "<style scoped>\n",
              "    .dataframe tbody tr th:only-of-type {\n",
              "        vertical-align: middle;\n",
              "    }\n",
              "\n",
              "    .dataframe tbody tr th {\n",
              "        vertical-align: top;\n",
              "    }\n",
              "\n",
              "    .dataframe thead th {\n",
              "        text-align: right;\n",
              "    }\n",
              "</style>\n",
              "<table border=\"1\" class=\"dataframe\">\n",
              "  <thead>\n",
              "    <tr style=\"text-align: right;\">\n",
              "      <th></th>\n",
              "      <th>0</th>\n",
              "    </tr>\n",
              "    <tr>\n",
              "      <th>NO</th>\n",
              "      <th></th>\n",
              "    </tr>\n",
              "  </thead>\n",
              "  <tbody>\n",
              "    <tr>\n",
              "      <th>1</th>\n",
              "      <td>False</td>\n",
              "    </tr>\n",
              "    <tr>\n",
              "      <th>2</th>\n",
              "      <td>False</td>\n",
              "    </tr>\n",
              "    <tr>\n",
              "      <th>3</th>\n",
              "      <td>False</td>\n",
              "    </tr>\n",
              "    <tr>\n",
              "      <th>4</th>\n",
              "      <td>False</td>\n",
              "    </tr>\n",
              "    <tr>\n",
              "      <th>5</th>\n",
              "      <td>False</td>\n",
              "    </tr>\n",
              "    <tr>\n",
              "      <th>...</th>\n",
              "      <td>...</td>\n",
              "    </tr>\n",
              "    <tr>\n",
              "      <th>506</th>\n",
              "      <td>False</td>\n",
              "    </tr>\n",
              "    <tr>\n",
              "      <th>507</th>\n",
              "      <td>False</td>\n",
              "    </tr>\n",
              "    <tr>\n",
              "      <th>508</th>\n",
              "      <td>False</td>\n",
              "    </tr>\n",
              "    <tr>\n",
              "      <th>509</th>\n",
              "      <td>False</td>\n",
              "    </tr>\n",
              "    <tr>\n",
              "      <th>510</th>\n",
              "      <td>False</td>\n",
              "    </tr>\n",
              "  </tbody>\n",
              "</table>\n",
              "<p>510 rows × 1 columns</p>\n",
              "</div><br><label><b>dtype:</b> bool</label>"
            ]
          },
          "metadata": {},
          "execution_count": 206
        }
      ]
    },
    {
      "cell_type": "code",
      "source": [
        "df.info()"
      ],
      "metadata": {
        "colab": {
          "base_uri": "https://localhost:8080/"
        },
        "id": "VF2QBuJneZtS",
        "outputId": "e401f43b-c28b-44c7-836e-c818768740d4"
      },
      "execution_count": null,
      "outputs": [
        {
          "output_type": "stream",
          "name": "stdout",
          "text": [
            "<class 'pandas.core.frame.DataFrame'>\n",
            "Index: 510 entries, 1 to 510\n",
            "Data columns (total 12 columns):\n",
            " #   Column                  Non-Null Count  Dtype \n",
            "---  ------                  --------------  ----- \n",
            " 0   Nama                    510 non-null    object\n",
            " 1   Usia                    510 non-null    int64 \n",
            " 2   Tanggal Lahir           510 non-null    object\n",
            " 3   Alamat                  510 non-null    object\n",
            " 4   Pekerjaan Orang Tua     510 non-null    object\n",
            " 5   Penghasilan Orang Tua   510 non-null    object\n",
            " 6   Jumlah Keluarga         510 non-null    int64 \n",
            " 7   Jumlah Tanggungan Anak  510 non-null    int64 \n",
            " 8   Status Rumah            510 non-null    object\n",
            " 9   Jenis Lantai            510 non-null    object\n",
            " 10  Jenis Dinding           510 non-null    object\n",
            " 11  Status                  510 non-null    object\n",
            "dtypes: int64(3), object(9)\n",
            "memory usage: 51.8+ KB\n"
          ]
        }
      ]
    },
    {
      "cell_type": "code",
      "source": [
        "from sklearn.preprocessing import StandardScaler, OneHotEncoder\n",
        "from sklearn.compose import ColumnTransformer\n",
        "\n",
        "\n",
        "# Identifikasi kolom yang berisi data string\n",
        "categorical_columns = ['Pekerjaan Orang Tua', 'Status Rumah', 'Jenis Lantai', 'Jenis Dinding', 'Penghasilan Orang Tua']\n",
        "numerical_columns = ['Usia', 'Jumlah Keluarga', 'Jumlah Tanggungan Anak']\n",
        "\n",
        "# Gunakan ColumnTransformer untuk menerapkan OneHotEncoder dan StandardScaler\n",
        "preprocessor = ColumnTransformer(\n",
        "    transformers=[\n",
        "        ('cat', OneHotEncoder(), categorical_columns),\n",
        "        ('num', StandardScaler(), numerical_columns)\n",
        "    ])\n",
        "\n",
        "x_scaled = preprocessor.fit_transform(df)\n",
        "\n",
        "print(x_scaled)"
      ],
      "metadata": {
        "colab": {
          "base_uri": "https://localhost:8080/"
        },
        "id": "vmqui816QNXV",
        "outputId": "2d2f837a-7d7e-4f10-e438-336d1eb02671"
      },
      "execution_count": null,
      "outputs": [
        {
          "output_type": "stream",
          "name": "stdout",
          "text": [
            "[[ 0.          0.          0.         ...  0.43390731 -1.33558496\n",
            "  -0.32647139]\n",
            " [ 0.          0.          0.         ...  0.43390731  0.06451438\n",
            "   1.14049258]\n",
            " [ 0.          0.          1.         ...  0.43390731  0.76456405\n",
            "   0.40701059]\n",
            " ...\n",
            " [ 1.          0.          0.         ... -0.46201467  0.76456405\n",
            "   1.87397457]\n",
            " [ 0.          1.          0.         ...  0.43390731 -1.33558496\n",
            "  -0.32647139]\n",
            " [ 0.          0.          0.         ... -1.35793666  0.76456405\n",
            "  -0.32647139]]\n"
          ]
        }
      ]
    },
    {
      "cell_type": "code",
      "source": [
        "x = df.drop(columns=['Status'])\n",
        "y = df['Status']\n",
        "\n",
        "print(\"X : \", x.shape)\n",
        "print(\"Y : \", y.shape)"
      ],
      "metadata": {
        "colab": {
          "base_uri": "https://localhost:8080/"
        },
        "id": "yWrs36dELr-Y",
        "outputId": "48b1b48c-ebc2-4c45-8b12-79c5cb01ed81"
      },
      "execution_count": null,
      "outputs": [
        {
          "output_type": "stream",
          "name": "stdout",
          "text": [
            "X :  (510, 11)\n",
            "Y :  (510,)\n"
          ]
        }
      ]
    },
    {
      "cell_type": "code",
      "source": [
        "x_train, x_test, y_train, y_test = train_test_split(x, y, test_size=0.2, random_state=42)"
      ],
      "metadata": {
        "id": "uaIZCtxSQXH0"
      },
      "execution_count": null,
      "outputs": []
    },
    {
      "cell_type": "code",
      "source": [
        "print(\"jumlah baris dan kolom\")\n",
        "print(\"data set awal :\", df.shape)\n",
        "print(\"x_train :\", x_train.shape)\n",
        "print(\"y_train :\", y_train.shape)\n",
        "print(\"x_test : \", x_test.shape)\n",
        "print(\"y_test : \", y_test.shape)"
      ],
      "metadata": {
        "colab": {
          "base_uri": "https://localhost:8080/"
        },
        "id": "t3pVRsC0QZ__",
        "outputId": "5ec3f91f-2197-4937-b0b2-846b5f3c5f7b"
      },
      "execution_count": null,
      "outputs": [
        {
          "output_type": "stream",
          "name": "stdout",
          "text": [
            "jumlah baris dan kolom\n",
            "data set awal : (510, 12)\n",
            "x_train : (408, 11)\n",
            "y_train : (408,)\n",
            "x_test :  (102, 11)\n",
            "y_test :  (102,)\n"
          ]
        }
      ]
    },
    {
      "cell_type": "code",
      "source": [
        "# Buat model SVM dengan pipeline\n",
        "svm_model = Pipeline(steps=[\n",
        "    ('preprocessor', preprocessor),\n",
        "    ('classifier', SVC())\n",
        "])"
      ],
      "metadata": {
        "id": "tVhMhIOwky2r"
      },
      "execution_count": null,
      "outputs": []
    },
    {
      "cell_type": "code",
      "source": [
        "cv = StratifiedKFold(n_splits=5, shuffle=True, random_state=42)\n",
        "param_grid = {\n",
        "    'classifier__kernel' : ['linear', 'rbf'],\n",
        "    'classifier__C': [0.1, 1, 10],\n",
        "    'classifier__gamma': ['scale', 'auto'],\n",
        "    'classifier__class_weight': [None, 'balanced']\n",
        "}\n",
        "\n",
        "grid_search = GridSearchCV(svm_model, param_grid, cv=cv, scoring='accuracy')\n"
      ],
      "metadata": {
        "id": "yhyp383xSLwA"
      },
      "execution_count": null,
      "outputs": []
    },
    {
      "cell_type": "code",
      "source": [
        "grid_search.fit(x_train, y_train)\n",
        "print(\"Parameter terbaik yang ditemukan:\")\n",
        "print(grid_search.best_params_)\n",
        "best_score = grid_search.best_score_ * 100\n",
        "print(f\"Akurasi terbaik yang ditemukan: {best_score:.2f}%\")"
      ],
      "metadata": {
        "colab": {
          "base_uri": "https://localhost:8080/"
        },
        "id": "kpPRYglSTUPI",
        "outputId": "306a5617-d426-4300-84ca-11e8ac0bbc0d"
      },
      "execution_count": null,
      "outputs": [
        {
          "output_type": "stream",
          "name": "stdout",
          "text": [
            "Parameter terbaik yang ditemukan:\n",
            "{'classifier__C': 0.1, 'classifier__class_weight': None, 'classifier__gamma': 'scale', 'classifier__kernel': 'linear'}\n",
            "Akurasi terbaik yang ditemukan: 98.28%\n"
          ]
        }
      ]
    },
    {
      "cell_type": "code",
      "source": [
        "# Transformasi data latih dan data uji menggunakan ColumnTransformer\n",
        "x_train_processed = preprocessor.fit_transform(x_train)\n",
        "x_test_processed = preprocessor.transform(x_test)\n"
      ],
      "metadata": {
        "id": "xe3hvhKjQcj2"
      },
      "execution_count": null,
      "outputs": []
    },
    {
      "cell_type": "code",
      "source": [
        "# Latih model\n",
        "svm_model.fit(x_train, y_train)"
      ],
      "metadata": {
        "colab": {
          "base_uri": "https://localhost:8080/",
          "height": 192
        },
        "id": "oLsxOkmpl_gD",
        "outputId": "3a003f75-826e-4e54-92fa-0c530bb49978"
      },
      "execution_count": null,
      "outputs": [
        {
          "output_type": "execute_result",
          "data": {
            "text/plain": [
              "Pipeline(steps=[('preprocessor',\n",
              "                 ColumnTransformer(transformers=[('cat', OneHotEncoder(),\n",
              "                                                  ['Pekerjaan Orang Tua',\n",
              "                                                   'Status Rumah',\n",
              "                                                   'Jenis Lantai',\n",
              "                                                   'Jenis Dinding',\n",
              "                                                   'Penghasilan Orang Tua']),\n",
              "                                                 ('num', StandardScaler(),\n",
              "                                                  ['Usia', 'Jumlah Keluarga',\n",
              "                                                   'Jumlah Tanggungan '\n",
              "                                                   'Anak'])])),\n",
              "                ('classifier', SVC())])"
            ],
            "text/html": [
              "<style>#sk-container-id-13 {color: black;}#sk-container-id-13 pre{padding: 0;}#sk-container-id-13 div.sk-toggleable {background-color: white;}#sk-container-id-13 label.sk-toggleable__label {cursor: pointer;display: block;width: 100%;margin-bottom: 0;padding: 0.3em;box-sizing: border-box;text-align: center;}#sk-container-id-13 label.sk-toggleable__label-arrow:before {content: \"▸\";float: left;margin-right: 0.25em;color: #696969;}#sk-container-id-13 label.sk-toggleable__label-arrow:hover:before {color: black;}#sk-container-id-13 div.sk-estimator:hover label.sk-toggleable__label-arrow:before {color: black;}#sk-container-id-13 div.sk-toggleable__content {max-height: 0;max-width: 0;overflow: hidden;text-align: left;background-color: #f0f8ff;}#sk-container-id-13 div.sk-toggleable__content pre {margin: 0.2em;color: black;border-radius: 0.25em;background-color: #f0f8ff;}#sk-container-id-13 input.sk-toggleable__control:checked~div.sk-toggleable__content {max-height: 200px;max-width: 100%;overflow: auto;}#sk-container-id-13 input.sk-toggleable__control:checked~label.sk-toggleable__label-arrow:before {content: \"▾\";}#sk-container-id-13 div.sk-estimator input.sk-toggleable__control:checked~label.sk-toggleable__label {background-color: #d4ebff;}#sk-container-id-13 div.sk-label input.sk-toggleable__control:checked~label.sk-toggleable__label {background-color: #d4ebff;}#sk-container-id-13 input.sk-hidden--visually {border: 0;clip: rect(1px 1px 1px 1px);clip: rect(1px, 1px, 1px, 1px);height: 1px;margin: -1px;overflow: hidden;padding: 0;position: absolute;width: 1px;}#sk-container-id-13 div.sk-estimator {font-family: monospace;background-color: #f0f8ff;border: 1px dotted black;border-radius: 0.25em;box-sizing: border-box;margin-bottom: 0.5em;}#sk-container-id-13 div.sk-estimator:hover {background-color: #d4ebff;}#sk-container-id-13 div.sk-parallel-item::after {content: \"\";width: 100%;border-bottom: 1px solid gray;flex-grow: 1;}#sk-container-id-13 div.sk-label:hover label.sk-toggleable__label {background-color: #d4ebff;}#sk-container-id-13 div.sk-serial::before {content: \"\";position: absolute;border-left: 1px solid gray;box-sizing: border-box;top: 0;bottom: 0;left: 50%;z-index: 0;}#sk-container-id-13 div.sk-serial {display: flex;flex-direction: column;align-items: center;background-color: white;padding-right: 0.2em;padding-left: 0.2em;position: relative;}#sk-container-id-13 div.sk-item {position: relative;z-index: 1;}#sk-container-id-13 div.sk-parallel {display: flex;align-items: stretch;justify-content: center;background-color: white;position: relative;}#sk-container-id-13 div.sk-item::before, #sk-container-id-13 div.sk-parallel-item::before {content: \"\";position: absolute;border-left: 1px solid gray;box-sizing: border-box;top: 0;bottom: 0;left: 50%;z-index: -1;}#sk-container-id-13 div.sk-parallel-item {display: flex;flex-direction: column;z-index: 1;position: relative;background-color: white;}#sk-container-id-13 div.sk-parallel-item:first-child::after {align-self: flex-end;width: 50%;}#sk-container-id-13 div.sk-parallel-item:last-child::after {align-self: flex-start;width: 50%;}#sk-container-id-13 div.sk-parallel-item:only-child::after {width: 0;}#sk-container-id-13 div.sk-dashed-wrapped {border: 1px dashed gray;margin: 0 0.4em 0.5em 0.4em;box-sizing: border-box;padding-bottom: 0.4em;background-color: white;}#sk-container-id-13 div.sk-label label {font-family: monospace;font-weight: bold;display: inline-block;line-height: 1.2em;}#sk-container-id-13 div.sk-label-container {text-align: center;}#sk-container-id-13 div.sk-container {/* jupyter's `normalize.less` sets `[hidden] { display: none; }` but bootstrap.min.css set `[hidden] { display: none !important; }` so we also need the `!important` here to be able to override the default hidden behavior on the sphinx rendered scikit-learn.org. See: https://github.com/scikit-learn/scikit-learn/issues/21755 */display: inline-block !important;position: relative;}#sk-container-id-13 div.sk-text-repr-fallback {display: none;}</style><div id=\"sk-container-id-13\" class=\"sk-top-container\"><div class=\"sk-text-repr-fallback\"><pre>Pipeline(steps=[(&#x27;preprocessor&#x27;,\n",
              "                 ColumnTransformer(transformers=[(&#x27;cat&#x27;, OneHotEncoder(),\n",
              "                                                  [&#x27;Pekerjaan Orang Tua&#x27;,\n",
              "                                                   &#x27;Status Rumah&#x27;,\n",
              "                                                   &#x27;Jenis Lantai&#x27;,\n",
              "                                                   &#x27;Jenis Dinding&#x27;,\n",
              "                                                   &#x27;Penghasilan Orang Tua&#x27;]),\n",
              "                                                 (&#x27;num&#x27;, StandardScaler(),\n",
              "                                                  [&#x27;Usia&#x27;, &#x27;Jumlah Keluarga&#x27;,\n",
              "                                                   &#x27;Jumlah Tanggungan &#x27;\n",
              "                                                   &#x27;Anak&#x27;])])),\n",
              "                (&#x27;classifier&#x27;, SVC())])</pre><b>In a Jupyter environment, please rerun this cell to show the HTML representation or trust the notebook. <br />On GitHub, the HTML representation is unable to render, please try loading this page with nbviewer.org.</b></div><div class=\"sk-container\" hidden><div class=\"sk-item sk-dashed-wrapped\"><div class=\"sk-label-container\"><div class=\"sk-label sk-toggleable\"><input class=\"sk-toggleable__control sk-hidden--visually\" id=\"sk-estimator-id-57\" type=\"checkbox\" ><label for=\"sk-estimator-id-57\" class=\"sk-toggleable__label sk-toggleable__label-arrow\">Pipeline</label><div class=\"sk-toggleable__content\"><pre>Pipeline(steps=[(&#x27;preprocessor&#x27;,\n",
              "                 ColumnTransformer(transformers=[(&#x27;cat&#x27;, OneHotEncoder(),\n",
              "                                                  [&#x27;Pekerjaan Orang Tua&#x27;,\n",
              "                                                   &#x27;Status Rumah&#x27;,\n",
              "                                                   &#x27;Jenis Lantai&#x27;,\n",
              "                                                   &#x27;Jenis Dinding&#x27;,\n",
              "                                                   &#x27;Penghasilan Orang Tua&#x27;]),\n",
              "                                                 (&#x27;num&#x27;, StandardScaler(),\n",
              "                                                  [&#x27;Usia&#x27;, &#x27;Jumlah Keluarga&#x27;,\n",
              "                                                   &#x27;Jumlah Tanggungan &#x27;\n",
              "                                                   &#x27;Anak&#x27;])])),\n",
              "                (&#x27;classifier&#x27;, SVC())])</pre></div></div></div><div class=\"sk-serial\"><div class=\"sk-item sk-dashed-wrapped\"><div class=\"sk-label-container\"><div class=\"sk-label sk-toggleable\"><input class=\"sk-toggleable__control sk-hidden--visually\" id=\"sk-estimator-id-58\" type=\"checkbox\" ><label for=\"sk-estimator-id-58\" class=\"sk-toggleable__label sk-toggleable__label-arrow\">preprocessor: ColumnTransformer</label><div class=\"sk-toggleable__content\"><pre>ColumnTransformer(transformers=[(&#x27;cat&#x27;, OneHotEncoder(),\n",
              "                                 [&#x27;Pekerjaan Orang Tua&#x27;, &#x27;Status Rumah&#x27;,\n",
              "                                  &#x27;Jenis Lantai&#x27;, &#x27;Jenis Dinding&#x27;,\n",
              "                                  &#x27;Penghasilan Orang Tua&#x27;]),\n",
              "                                (&#x27;num&#x27;, StandardScaler(),\n",
              "                                 [&#x27;Usia&#x27;, &#x27;Jumlah Keluarga&#x27;,\n",
              "                                  &#x27;Jumlah Tanggungan Anak&#x27;])])</pre></div></div></div><div class=\"sk-parallel\"><div class=\"sk-parallel-item\"><div class=\"sk-item\"><div class=\"sk-label-container\"><div class=\"sk-label sk-toggleable\"><input class=\"sk-toggleable__control sk-hidden--visually\" id=\"sk-estimator-id-59\" type=\"checkbox\" ><label for=\"sk-estimator-id-59\" class=\"sk-toggleable__label sk-toggleable__label-arrow\">cat</label><div class=\"sk-toggleable__content\"><pre>[&#x27;Pekerjaan Orang Tua&#x27;, &#x27;Status Rumah&#x27;, &#x27;Jenis Lantai&#x27;, &#x27;Jenis Dinding&#x27;, &#x27;Penghasilan Orang Tua&#x27;]</pre></div></div></div><div class=\"sk-serial\"><div class=\"sk-item\"><div class=\"sk-estimator sk-toggleable\"><input class=\"sk-toggleable__control sk-hidden--visually\" id=\"sk-estimator-id-60\" type=\"checkbox\" ><label for=\"sk-estimator-id-60\" class=\"sk-toggleable__label sk-toggleable__label-arrow\">OneHotEncoder</label><div class=\"sk-toggleable__content\"><pre>OneHotEncoder()</pre></div></div></div></div></div></div><div class=\"sk-parallel-item\"><div class=\"sk-item\"><div class=\"sk-label-container\"><div class=\"sk-label sk-toggleable\"><input class=\"sk-toggleable__control sk-hidden--visually\" id=\"sk-estimator-id-61\" type=\"checkbox\" ><label for=\"sk-estimator-id-61\" class=\"sk-toggleable__label sk-toggleable__label-arrow\">num</label><div class=\"sk-toggleable__content\"><pre>[&#x27;Usia&#x27;, &#x27;Jumlah Keluarga&#x27;, &#x27;Jumlah Tanggungan Anak&#x27;]</pre></div></div></div><div class=\"sk-serial\"><div class=\"sk-item\"><div class=\"sk-estimator sk-toggleable\"><input class=\"sk-toggleable__control sk-hidden--visually\" id=\"sk-estimator-id-62\" type=\"checkbox\" ><label for=\"sk-estimator-id-62\" class=\"sk-toggleable__label sk-toggleable__label-arrow\">StandardScaler</label><div class=\"sk-toggleable__content\"><pre>StandardScaler()</pre></div></div></div></div></div></div></div></div><div class=\"sk-item\"><div class=\"sk-estimator sk-toggleable\"><input class=\"sk-toggleable__control sk-hidden--visually\" id=\"sk-estimator-id-63\" type=\"checkbox\" ><label for=\"sk-estimator-id-63\" class=\"sk-toggleable__label sk-toggleable__label-arrow\">SVC</label><div class=\"sk-toggleable__content\"><pre>SVC()</pre></div></div></div></div></div></div></div>"
            ]
          },
          "metadata": {},
          "execution_count": 216
        }
      ]
    },
    {
      "cell_type": "code",
      "source": [
        "clf = SVC(kernel='linear')"
      ],
      "metadata": {
        "id": "xdMajJ4eQf5q"
      },
      "execution_count": null,
      "outputs": []
    },
    {
      "cell_type": "code",
      "source": [
        "clf.fit(x_train_processed, y_train)"
      ],
      "metadata": {
        "colab": {
          "base_uri": "https://localhost:8080/",
          "height": 75
        },
        "id": "N26-HVQcQiZ_",
        "outputId": "77aeda55-df8b-4c73-89f3-9a6bf271c8b8"
      },
      "execution_count": null,
      "outputs": [
        {
          "output_type": "execute_result",
          "data": {
            "text/plain": [
              "SVC(kernel='linear')"
            ],
            "text/html": [
              "<style>#sk-container-id-14 {color: black;}#sk-container-id-14 pre{padding: 0;}#sk-container-id-14 div.sk-toggleable {background-color: white;}#sk-container-id-14 label.sk-toggleable__label {cursor: pointer;display: block;width: 100%;margin-bottom: 0;padding: 0.3em;box-sizing: border-box;text-align: center;}#sk-container-id-14 label.sk-toggleable__label-arrow:before {content: \"▸\";float: left;margin-right: 0.25em;color: #696969;}#sk-container-id-14 label.sk-toggleable__label-arrow:hover:before {color: black;}#sk-container-id-14 div.sk-estimator:hover label.sk-toggleable__label-arrow:before {color: black;}#sk-container-id-14 div.sk-toggleable__content {max-height: 0;max-width: 0;overflow: hidden;text-align: left;background-color: #f0f8ff;}#sk-container-id-14 div.sk-toggleable__content pre {margin: 0.2em;color: black;border-radius: 0.25em;background-color: #f0f8ff;}#sk-container-id-14 input.sk-toggleable__control:checked~div.sk-toggleable__content {max-height: 200px;max-width: 100%;overflow: auto;}#sk-container-id-14 input.sk-toggleable__control:checked~label.sk-toggleable__label-arrow:before {content: \"▾\";}#sk-container-id-14 div.sk-estimator input.sk-toggleable__control:checked~label.sk-toggleable__label {background-color: #d4ebff;}#sk-container-id-14 div.sk-label input.sk-toggleable__control:checked~label.sk-toggleable__label {background-color: #d4ebff;}#sk-container-id-14 input.sk-hidden--visually {border: 0;clip: rect(1px 1px 1px 1px);clip: rect(1px, 1px, 1px, 1px);height: 1px;margin: -1px;overflow: hidden;padding: 0;position: absolute;width: 1px;}#sk-container-id-14 div.sk-estimator {font-family: monospace;background-color: #f0f8ff;border: 1px dotted black;border-radius: 0.25em;box-sizing: border-box;margin-bottom: 0.5em;}#sk-container-id-14 div.sk-estimator:hover {background-color: #d4ebff;}#sk-container-id-14 div.sk-parallel-item::after {content: \"\";width: 100%;border-bottom: 1px solid gray;flex-grow: 1;}#sk-container-id-14 div.sk-label:hover label.sk-toggleable__label {background-color: #d4ebff;}#sk-container-id-14 div.sk-serial::before {content: \"\";position: absolute;border-left: 1px solid gray;box-sizing: border-box;top: 0;bottom: 0;left: 50%;z-index: 0;}#sk-container-id-14 div.sk-serial {display: flex;flex-direction: column;align-items: center;background-color: white;padding-right: 0.2em;padding-left: 0.2em;position: relative;}#sk-container-id-14 div.sk-item {position: relative;z-index: 1;}#sk-container-id-14 div.sk-parallel {display: flex;align-items: stretch;justify-content: center;background-color: white;position: relative;}#sk-container-id-14 div.sk-item::before, #sk-container-id-14 div.sk-parallel-item::before {content: \"\";position: absolute;border-left: 1px solid gray;box-sizing: border-box;top: 0;bottom: 0;left: 50%;z-index: -1;}#sk-container-id-14 div.sk-parallel-item {display: flex;flex-direction: column;z-index: 1;position: relative;background-color: white;}#sk-container-id-14 div.sk-parallel-item:first-child::after {align-self: flex-end;width: 50%;}#sk-container-id-14 div.sk-parallel-item:last-child::after {align-self: flex-start;width: 50%;}#sk-container-id-14 div.sk-parallel-item:only-child::after {width: 0;}#sk-container-id-14 div.sk-dashed-wrapped {border: 1px dashed gray;margin: 0 0.4em 0.5em 0.4em;box-sizing: border-box;padding-bottom: 0.4em;background-color: white;}#sk-container-id-14 div.sk-label label {font-family: monospace;font-weight: bold;display: inline-block;line-height: 1.2em;}#sk-container-id-14 div.sk-label-container {text-align: center;}#sk-container-id-14 div.sk-container {/* jupyter's `normalize.less` sets `[hidden] { display: none; }` but bootstrap.min.css set `[hidden] { display: none !important; }` so we also need the `!important` here to be able to override the default hidden behavior on the sphinx rendered scikit-learn.org. See: https://github.com/scikit-learn/scikit-learn/issues/21755 */display: inline-block !important;position: relative;}#sk-container-id-14 div.sk-text-repr-fallback {display: none;}</style><div id=\"sk-container-id-14\" class=\"sk-top-container\"><div class=\"sk-text-repr-fallback\"><pre>SVC(kernel=&#x27;linear&#x27;)</pre><b>In a Jupyter environment, please rerun this cell to show the HTML representation or trust the notebook. <br />On GitHub, the HTML representation is unable to render, please try loading this page with nbviewer.org.</b></div><div class=\"sk-container\" hidden><div class=\"sk-item\"><div class=\"sk-estimator sk-toggleable\"><input class=\"sk-toggleable__control sk-hidden--visually\" id=\"sk-estimator-id-64\" type=\"checkbox\" checked><label for=\"sk-estimator-id-64\" class=\"sk-toggleable__label sk-toggleable__label-arrow\">SVC</label><div class=\"sk-toggleable__content\"><pre>SVC(kernel=&#x27;linear&#x27;)</pre></div></div></div></div></div>"
            ]
          },
          "metadata": {},
          "execution_count": 218
        }
      ]
    },
    {
      "cell_type": "code",
      "source": [
        "y_pred = clf.predict(x_test_processed)"
      ],
      "metadata": {
        "id": "e9ezVnJfQkw9"
      },
      "execution_count": null,
      "outputs": []
    },
    {
      "cell_type": "code",
      "source": [
        "from sklearn.metrics import confusion_matrix, accuracy_score, classification_report, f1_score\n",
        "\n",
        "# Confusion Matrix\n",
        "conf_matrix = confusion_matrix(y_test, y_pred)\n",
        "print(\"Confusion Matrix:\")\n",
        "print(conf_matrix)\n",
        "\n",
        "# Accuracy Score\n",
        "acc_score = accuracy_score(y_test, y_pred)\n",
        "print(\"\\nAccuracy Score:\", acc_score)\n",
        "\n",
        "# Classification Report\n",
        "class_report = classification_report(y_test, y_pred)\n",
        "print(\"\\nClassification Report:\")\n",
        "print(class_report)\n",
        "\n",
        "# F1 Score untuk kelas 'Layak'\n",
        "f1_positive = f1_score(y_test, y_pred, pos_label='Layak')\n",
        "print(\"\\nF1 Score (Layak):\", f1_positive)\n",
        "\n",
        "# Visualisasi Confusion Matrix\n",
        "plt.figure(figsize=(6, 4))\n",
        "sns.heatmap(conf_matrix, annot=True, fmt='d', cmap='Blues', xticklabels=['Layak', 'Tidak Layak'], yticklabels=['Layak', 'Tidak Layak'])\n",
        "plt.xlabel('Predicted')\n",
        "plt.ylabel('Actual')\n",
        "plt.title('Confusion Matrix')\n",
        "plt.show()\n"
      ],
      "metadata": {
        "colab": {
          "base_uri": "https://localhost:8080/",
          "height": 722
        },
        "id": "2ZID3FHfQnOk",
        "outputId": "03f852bf-b588-4966-a570-080870d59be5"
      },
      "execution_count": null,
      "outputs": [
        {
          "output_type": "stream",
          "name": "stdout",
          "text": [
            "Confusion Matrix:\n",
            "[[17  2]\n",
            " [ 0 83]]\n",
            "\n",
            "Accuracy Score: 0.9803921568627451\n",
            "\n",
            "Classification Report:\n",
            "              precision    recall  f1-score   support\n",
            "\n",
            "       Layak       1.00      0.89      0.94        19\n",
            " Tidak Layak       0.98      1.00      0.99        83\n",
            "\n",
            "    accuracy                           0.98       102\n",
            "   macro avg       0.99      0.95      0.97       102\n",
            "weighted avg       0.98      0.98      0.98       102\n",
            "\n",
            "\n",
            "F1 Score (Layak): 0.9444444444444444\n"
          ]
        },
        {
          "output_type": "display_data",
          "data": {
            "text/plain": [
              "<Figure size 600x400 with 2 Axes>"
            ],
            "image/png": "[encoded data removed]"
          },
          "metadata": {}
        }
      ]
    },
    {
      "cell_type": "code",
      "source": [
        "# Hitung akurasi dan tampilkan classification report\n",
        "CLF_acc = accuracy_score(y_test, y_pred)\n",
        "print(classification_report(y_test, y_pred))\n",
        "print(\"Akurasi SVM : {:.2f}%\".format(CLF_acc*100))"
      ],
      "metadata": {
        "colab": {
          "base_uri": "https://localhost:8080/"
        },
        "id": "hldYiISSQr0I",
        "outputId": "bc2a004e-28d3-42f2-bcda-e7bc33b83681"
      },
      "execution_count": null,
      "outputs": [
        {
          "output_type": "stream",
          "name": "stdout",
          "text": [
            "              precision    recall  f1-score   support\n",
            "\n",
            "       Layak       1.00      0.89      0.94        19\n",
            " Tidak Layak       0.98      1.00      0.99        83\n",
            "\n",
            "    accuracy                           0.98       102\n",
            "   macro avg       0.99      0.95      0.97       102\n",
            "weighted avg       0.98      0.98      0.98       102\n",
            "\n",
            "Akurasi SVM : 98.04%\n"
          ]
        }
      ]
    },
    {
      "cell_type": "code",
      "source": [
        "from sklearn.metrics import classification_report, f1_score\n",
        "\n",
        "# Menghitung F1 score\n",
        "f1 = f1_score(y_test, y_pred, average='weighted')\n",
        "\n",
        "# Menghitung dan menampilkan classification report\n",
        "report = classification_report(y_test, y_pred, output_dict=True)\n",
        "\n",
        "# Menampilkan F1 score keseluruhan dan per kelas\n",
        "print(\"F1 Score Keseluruhan (Weighted): {:.2f}\".format(f1))\n",
        "for label, metrics in report.items():\n",
        "    if label not in ['accuracy', 'macro avg', 'weighted avg']:\n",
        "        print(f\"F1 Score untuk Kelas {label}: {metrics['f1-score']:.2f}\")\n",
        "\n"
      ],
      "metadata": {
        "colab": {
          "base_uri": "https://localhost:8080/"
        },
        "id": "THUmAM6JQ6tp",
        "outputId": "712038cb-8b65-4305-d1ba-c6fd2b68010e"
      },
      "execution_count": null,
      "outputs": [
        {
          "output_type": "stream",
          "name": "stdout",
          "text": [
            "F1 Score Keseluruhan (Weighted): 0.98\n",
            "F1 Score untuk Kelas Layak: 0.94\n",
            "F1 Score untuk Kelas Tidak Layak: 0.99\n"
          ]
        }
      ]
    },
    {
      "cell_type": "code",
      "source": [
        "from sklearn.metrics import f1_score, confusion_matrix, classification_report, accuracy_score\n",
        "import seaborn as sns\n",
        "import matplotlib.pyplot as plt\n",
        "\n",
        "# Hitung F1 Score\n",
        "f1 = f1_score(y_test, y_pred, average='weighted')\n",
        "print(\"F1 Score (weighted): {:.2f}\".format(f1))\n",
        "\n",
        "# Hitung dan tampilkan Confusion Matrix\n",
        "cm = confusion_matrix(y_test, y_pred)\n",
        "plt.figure(figsize=(8, 6))\n",
        "sns.heatmap(cm, annot=True, fmt='d', cmap='Blues')\n",
        "plt.xlabel('Predicted')\n",
        "plt.ylabel('True')\n",
        "plt.title('Confusion Matrix')\n",
        "plt.show()\n",
        "\n",
        "# Tampilkan Classification Report\n",
        "print(\"Classification Report:\")\n",
        "print(classification_report(y_test, y_pred))\n",
        "\n",
        "# Tampilkan Akurasi\n",
        "CLF_acc = accuracy_score(y_test, y_pred)\n",
        "print(\"Akurasi SVM : {:.2f}%\".format(CLF_acc * 100))\n"
      ],
      "metadata": {
        "colab": {
          "base_uri": "https://localhost:8080/",
          "height": 772
        },
        "id": "688DOpQYRC5i",
        "outputId": "291d2ae4-ae3f-4b5d-bc83-dceb9b6eb26a"
      },
      "execution_count": null,
      "outputs": [
        {
          "output_type": "stream",
          "name": "stdout",
          "text": [
            "F1 Score (weighted): 0.98\n"
          ]
        },
        {
          "output_type": "display_data",
          "data": {
            "text/plain": [
              "<Figure size 800x600 with 2 Axes>"
            ],
            "image/png": "[encoded data removed]"
          },
          "metadata": {}
        },
        {
          "output_type": "stream",
          "name": "stdout",
          "text": [
            "Classification Report:\n",
            "              precision    recall  f1-score   support\n",
            "\n",
            "       Layak       1.00      0.89      0.94        19\n",
            " Tidak Layak       0.98      1.00      0.99        83\n",
            "\n",
            "    accuracy                           0.98       102\n",
            "   macro avg       0.99      0.95      0.97       102\n",
            "weighted avg       0.98      0.98      0.98       102\n",
            "\n",
            "Akurasi SVM : 98.04%\n"
          ]
        }
      ]
    }
  ]
}